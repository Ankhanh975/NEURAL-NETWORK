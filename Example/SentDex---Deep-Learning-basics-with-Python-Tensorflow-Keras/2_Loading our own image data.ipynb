{
 "cells": [
  {
   "cell_type": "code",
   "execution_count": 1,
   "metadata": {},
   "outputs": [],
   "source": [
    "import numpy as np\n",
    "import matplotlib.pyplot as plt\n",
    "%matplotlib inline\n",
    "import os\n",
    "import cv2\n",
    "import time"
   ]
  },
  {
   "cell_type": "markdown",
   "metadata": {},
   "source": [
    "# Reading in images\n",
    "We will load each image not in its color RBG format, but grayscale. This is for several reasons:\n",
    "\n",
    "- Color is not a key differentiating factor between cats and dogs, so it is irrelevant information.\n",
    "\n",
    "- Grayscale images are 1/3rd the size of RBG. RBG images are have 3 layers for R, G and B each containing a full 2D matrix, while Grayscale images only have only layer with the numbers showing the brightness of each pixel (0:Dark - 255:Bright)."
   ]
  },
  {
   "cell_type": "code",
   "execution_count": 2,
   "metadata": {},
   "outputs": [
    {
     "ename": "FileNotFoundError",
     "evalue": "[WinError 3] The system cannot find the path specified: 'Data\\\\MS Pet Images\\\\Dog'",
     "output_type": "error",
     "traceback": [
      "\u001b[1;31m---------------------------------------------------------------------------\u001b[0m",
      "\u001b[1;31mFileNotFoundError\u001b[0m                         Traceback (most recent call last)",
      "\u001b[1;32m<ipython-input-2-ec813d9a7e9b>\u001b[0m in \u001b[0;36m<module>\u001b[1;34m\u001b[0m\n\u001b[0;32m      7\u001b[0m \u001b[1;33m\u001b[0m\u001b[0m\n\u001b[0;32m      8\u001b[0m     \u001b[1;31m# Each image in the folder directory\u001b[0m\u001b[1;33m\u001b[0m\u001b[1;33m\u001b[0m\u001b[1;33m\u001b[0m\u001b[0m\n\u001b[1;32m----> 9\u001b[1;33m     \u001b[1;32mfor\u001b[0m \u001b[0mimg\u001b[0m \u001b[1;32min\u001b[0m \u001b[0mos\u001b[0m\u001b[1;33m.\u001b[0m\u001b[0mlistdir\u001b[0m\u001b[1;33m(\u001b[0m\u001b[0mpath\u001b[0m\u001b[1;33m)\u001b[0m\u001b[1;33m:\u001b[0m\u001b[1;33m\u001b[0m\u001b[1;33m\u001b[0m\u001b[0m\n\u001b[0m\u001b[0;32m     10\u001b[0m \u001b[1;33m\u001b[0m\u001b[0m\n\u001b[0;32m     11\u001b[0m         \u001b[1;31m# Reading in the image file as an matrix (ndarray)\u001b[0m\u001b[1;33m\u001b[0m\u001b[1;33m\u001b[0m\u001b[1;33m\u001b[0m\u001b[0m\n",
      "\u001b[1;31mFileNotFoundError\u001b[0m: [WinError 3] The system cannot find the path specified: 'Data\\\\MS Pet Images\\\\Dog'"
     ]
    }
   ],
   "source": [
    "DATA_DIR = \"Data\\MS Pet Images\"\n",
    "CATEGORIES = ['Dog', 'Cat']\n",
    "\n",
    "for category in CATEGORIES:\n",
    "    # Path of the specific folder\n",
    "    path = os.path.join(DATA_DIR, category)\n",
    "    \n",
    "    # Each image in the folder directory\n",
    "    for img in os.listdir(path):\n",
    "        \n",
    "        # Reading in the image file as an matrix (ndarray)\n",
    "        img_array = cv2.imread(os.path.join(path, img), cv2.IMREAD_GRAYSCALE)\n",
    "        \n",
    "        # Displyaing image matrix\n",
    "        plt.imshow(img_array, cmap=plt.cm.binary)\n",
    "    # We will check only the first photo (later we will make a function out of this)\n",
    "        break\n",
    "    break"
   ]
  },
  {
   "cell_type": "code",
   "execution_count": null,
   "metadata": {},
   "outputs": [
    {
     "name": "stdout",
     "output_type": "stream",
     "text": [
      "[[117 117 119 ... 133 132 132]\n",
      " [118 117 119 ... 135 134 134]\n",
      " [119 118 120 ... 137 136 136]\n",
      " ...\n",
      " [ 79  74  73 ...  80  76  73]\n",
      " [ 78  72  69 ...  72  73  74]\n",
      " [ 74  71  70 ...  75  73  71]]\n"
     ]
    }
   ],
   "source": [
    "print(img_array)"
   ]
  },
  {
   "cell_type": "markdown",
   "metadata": {},
   "source": [
    "# Resizing images\n",
    "There are two main reasons to resize the images\n",
    "1. Now, all the images are of different sizes, so we will make them all smaller square images.\n",
    "\n",
    "2. This is also to reduce the total size of our dataset. A full 1200x800 image has 960,000 pixes, which is huge!"
   ]
  },
  {
   "cell_type": "code",
   "execution_count": null,
   "metadata": {},
   "outputs": [
    {
     "data": {
      "text/plain": [
       "<matplotlib.image.AxesImage at 0x41f5400>"
      ]
     },
     "execution_count": 4,
     "metadata": {},
     "output_type": "execute_result"
    },
    {
     "data": {
      "image/png": "[encoded data removed]",
      "text/plain": [
       "<Figure size 432x288 with 1 Axes>"
      ]
     },
     "metadata": {
      "needs_background": "light"
     },
     "output_type": "display_data"
    }
   ],
   "source": [
    "IMG_SIZE = 50\n",
    "\n",
    "new_array = cv2.resize(img_array, (IMG_SIZE, IMG_SIZE))\n",
    "plt.imshow(new_array, cmap='Greys')"
   ]
  },
  {
   "cell_type": "markdown",
   "metadata": {},
   "source": [
    "# Defining a function to read image data"
   ]
  },
  {
   "cell_type": "code",
   "execution_count": null,
   "metadata": {},
   "outputs": [
    {
     "name": "stdout",
     "output_type": "stream",
     "text": [
      "Creating training data . . .\n",
      "Process start: Mon Nov 11 23:52:17 2019\n",
      "Process end: Mon Nov 11 23:52:55 2019\n",
      "Length of training data: 24946\n"
     ]
    }
   ],
   "source": [
    "def create_training_data():\n",
    "    \"\"\"\n",
    "    A function to read in image data, and return a list of lists,\n",
    "    each entry containing the image as an array and the numerical\n",
    "    label value of that image (eg: 0=Dog, 1=Cat).\n",
    "    \n",
    "    The function expects the image data to be seperated by their \n",
    "    categories into seperate folders.\n",
    "    \"\"\"\n",
    "    # List to store data\n",
    "    training_data = []\n",
    "    \n",
    "    print(\"Creating training data . . .\")\n",
    "    print(\"Process start:\", time.ctime(time.time()))\n",
    "    \n",
    "    for category in CATEGORIES:\n",
    "        # Path of the specific folder\n",
    "        path = os.path.join(DATA_DIR, category)\n",
    "        \n",
    "        # Getting the label as a number\n",
    "        class_num = CATEGORIES.index(category)\n",
    "        \n",
    "        # Each image in the folder directory\n",
    "        for img in os.listdir(path):\n",
    "            try:\n",
    "                # Reading in the image file as an matrix (ndarray)\n",
    "                img_array = cv2.imread(os.path.join(path, img), cv2.IMREAD_GRAYSCALE)\n",
    "                \n",
    "                # Resizing to reduce size\n",
    "                new_array = cv2.resize(img_array, (IMG_SIZE, IMG_SIZE))\n",
    "                \n",
    "                # Adding image data to list\n",
    "                training_data.append([new_array, class_num])\n",
    "            except Exception as e:\n",
    "                pass\n",
    "    print(\"Process end:\", time.ctime(time.time()))\n",
    "    return training_data\n",
    "##########################################END OF FUNCTION##########################################\n",
    "\n",
    "# Calling the function we just defined and showing the length\n",
    "training_data = create_training_data()\n",
    "print(\"Length of training data:\", len(training_data))"
   ]
  },
  {
   "cell_type": "markdown",
   "metadata": {},
   "source": [
    "# Shuffling Training Data\n",
    "Right now our data set is ordered: first alot of images of dogs, then alot of images of cats. This will lead our neural network astray. First it will learn to predict dog all the time, then it will shift to predicting cat all the time, and so on.\n",
    "\n",
    "So we will shuffle our training data to solve this problem:"
   ]
  },
  {
   "cell_type": "code",
   "execution_count": null,
   "metadata": {},
   "outputs": [],
   "source": [
    "import random"
   ]
  },
  {
   "cell_type": "code",
   "execution_count": null,
   "metadata": {
    "scrolled": false
   },
   "outputs": [
    {
     "name": "stdout",
     "output_type": "stream",
     "text": [
      "0 0 0 0 0 1 0 0 1 1 0 1 1 0 1 1 0 0 1 1 0 1 1 1 1 1 0 0 1 0 1 1 1 1 1 0 0 0 0 0 1 1 1 1 1 0 0 0 1 1 1 0 0 1 1 0 0 1 0 0 0 1 0 0 1 1 0 1 0 0 1 0 1 0 1 0 1 0 0 1 1 1 1 1 1 1 1 1 1 1 0 1 1 0 0 0 1 1 1 0 1 1 0 0 0 0 1 0 1 0 0 1 0 1 1 1 0 0 0 0 1 1 1 0 1 0 0 0 1 0 0 0 1 0 0 1 0 1 0 0 1 1 1 1 1 0 0 1 1 0 0 0 0 0 0 1 0 1 1 0 1 1 1 1 0 0 0 1 0 1 1 0 0 1 1 0 1 1 0 0 0 0 0 0 1 0 0 1 0 1 1 1 1 1 0 0 1 0 1 0 1 0 0 1 0 1 1 1 1 0 0 1 0 1 0 0 0 0 1 1 1 1 0 1 1 1 0 1 1 0 0 1 0 1 0 0 1 1 0 1 1 1 1 1 0 0 0 0 1 1 1 1 1 1 0 1 0 1 1 1 0 1 1 1 1 0 0 1 1 1 0 0 0 1 1 0 0 1 1 0 0 0 1 0 1 0 1 0 0 0 0 1 1 1 0 0 0 0 0 0 0 0 1 0 1 1 0 1 1 1 0 1 1 1 0 1 1 1 1 1 1 0 1 0 1 0 0 0 1 1 0 1 0 0 0 0 0 1 0 0 0 1 1 1 0 0 0 0 0 0 1 0 1 0 0 0 0 0 1 0 0 1 1 1 1 1 0 0 0 1 1 1 0 0 0 1 1 0 0 0 1 0 0 0 1 1 1 0 0 0 0 0 1 1 1 1 1 0 0 1 1 0 0 1 0 0 1 0 0 1 1 1 1 1 0 1 1 1 1 1 1 0 1 0 0 1 0 1 0 1 1 1 1 0 1 0 0 1 0 0 1 0 1 1 1 1 0 0 1 0 0 0 0 1 0 0 0 1 0 1 1 0 1 0 1 0 1 0 0 1 0 1 0 1 0 1 0 0 0 1 0 1 1 1 0 0 0 1 0 0 0 1 0 1 1 1 1 0 1 0 1 1 "
     ]
    }
   ],
   "source": [
    "# Shuffling training data\n",
    "random.shuffle(training_data)\n",
    "\n",
    "# Showing the first 500 labels\n",
    "for i, sample in enumerate(training_data):\n",
    "    print(sample[1], end=\" \")\n",
    "    if i > 500:\n",
    "        break"
   ]
  },
  {
   "cell_type": "markdown",
   "metadata": {},
   "source": [
    "# Setting feature and labels"
   ]
  },
  {
   "cell_type": "code",
   "execution_count": null,
   "metadata": {},
   "outputs": [],
   "source": [
    "X = []\n",
    "y = []"
   ]
  },
  {
   "cell_type": "code",
   "execution_count": null,
   "metadata": {},
   "outputs": [],
   "source": [
    "for feature, label in training_data:\n",
    "    X.append(feature)\n",
    "    y.append(label)"
   ]
  },
  {
   "cell_type": "code",
   "execution_count": null,
   "metadata": {},
   "outputs": [],
   "source": [
    "X = np.array(X).reshape(-1, IMG_SIZE, IMG_SIZE, 1)\n",
    "y = np.array(y).reshape(-1)"
   ]
  },
  {
   "cell_type": "markdown",
   "metadata": {},
   "source": [
    "# Saving the dataset"
   ]
  },
  {
   "cell_type": "code",
   "execution_count": null,
   "metadata": {},
   "outputs": [],
   "source": [
    "import pickle"
   ]
  },
  {
   "cell_type": "code",
   "execution_count": null,
   "metadata": {},
   "outputs": [
    {
     "name": "stdout",
     "output_type": "stream",
     "text": [
      "Save training data as pickle files? (Y/N) Y\n",
      "SAVE SUCCESSFULLY!\n"
     ]
    }
   ],
   "source": [
    "if input(\"Save training data as pickle files? (Y/N) \") == \"Y\":\n",
    "    with open(\"Data\\X.pickle\", 'wb') as pickle_out:\n",
    "        pickle.dump(X, pickle_out)\n",
    "    with open(\"Data\\y.pickle\", 'wb') as pickle_out:\n",
    "        pickle.dump(y, pickle_out)\n",
    "    print(\"SAVE SUCCESSFULLY!\")"
   ]
  }
 ],
 "metadata": {
  "interpreter": {
   "hash": "684b1123683431d89d3bfe9a89cc763215f4b8cd94b4aba1fb40ad45ff7c8b41"
  },
  "kernelspec": {
   "display_name": "Python 3.7.4 64-bit",
   "name": "python3"
  },
  "language_info": {
   "codemirror_mode": {
    "name": "ipython",
    "version": 3
   },
   "file_extension": ".py",
   "mimetype": "text/x-python",
   "name": "python",
   "nbconvert_exporter": "python",
   "pygments_lexer": "ipython3",
   "version": "3.7.4"
  }
 },
 "nbformat": 4,
 "nbformat_minor": 2
}
