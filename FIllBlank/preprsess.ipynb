{
 "cells": [
  {
   "cell_type": "code",
   "execution_count": 33,
   "metadata": {},
   "outputs": [],
   "source": [
    "\n",
    "with open(\"from/aticle2.txt\", \"r\", encoding=\"utf-8\") as r:\n",
    "    x=r.read()\n",
    "# print(x)\n"
   ]
  },
  {
   "cell_type": "code",
   "execution_count": 34,
   "metadata": {},
   "outputs": [],
   "source": [
    "# for i in '0123456789abcdefghijklmnopqrstuvwxyzABCDEFGHIJKLMNOPQRSTUVWXYZ!\"#$%&\\'()*+,-./:;<=>?@[\\\\]^_`{|}~ \\t\\n\\r\\x0b\\x0c. ':\n",
    "#     x=x.replace(i, \"\")\n",
    "\n",
    "# Z=[]\n",
    "# for i in x:\n",
    "#     if i not in Z:\n",
    "#         Z.append(i)\n",
    "# Z\n"
   ]
  },
  {
   "cell_type": "code",
   "execution_count": 35,
   "metadata": {},
   "outputs": [],
   "source": [
    "from nltk import sent_tokenize\n",
    "# Split by sentsense and comma\n",
    "Z = sent_tokenize(x)\n",
    "for i, e in reversed(list(enumerate(Z))):\n",
    "    for zi in Z[i].split(\", \"):\n",
    "        Z.append(zi.strip())\n",
    "    Z.pop(i)\n",
    "    \n",
    "for i, e in reversed(list(enumerate(Z))):\n",
    "    for zi in Z[i].split(\"  \"):\n",
    "        Z.append(zi.strip())\n",
    "    Z.pop(i)"
   ]
  },
  {
   "cell_type": "code",
   "execution_count": 36,
   "metadata": {},
   "outputs": [
    {
     "name": "stdout",
     "output_type": "stream",
     "text": [
      "cua ngo ra/vao tp tu 0 gio hom nay (0-0).\n",
      "chong dich covid-0 tai cac tuyen duong\n"
     ]
    }
   ],
   "source": [
    "const = {'á': \"a\",'ã': \"a\",'ấ': \"a\",'ậ': \"a\",'ạ': \"a\",'ủ': \"u\",'đ': \"d\",'ư': \"u\",'ơ': \"o\",'ể': \"e\",'ố': \"o\",'ò': \"o\",'ị': \"i\",'ế': \"e\",'ờ': \"o\",'ử': \"u\",'õ': \"o\",'à': \"a\",'ừ': \"u\",'ô': \"o\",'ề': \"e\",'ă': \"a\",'ó': \"o\",'ỉ': \"i\",'â': \"a\",'ộ': \"o\",'ọ': \"o\",'ả': \"a\",'ì': \"i\",'ợ': \"o\",'ê': \"e\",'ụ': \"u\",'ầ': \"a\",\n",
    "'ồ': \"o\",'ổ': \"o\",'ý': \"y\",'ệ': \"e\",'ớ': \"o\",'ở': \"o\",'ứ': \"u\",'í': \"i\",'ũ': \"u\",'ặ': \"a\",'ự': \"u\",'ễ': \"e\",'ỏ': \"o\",'ẫ': \"a\",'ữ': \"u\",'ỡ': \"o\",'ắ': \"a\",'ú': \"u\",'ẩ': \"a\",'ẻ': \"e\",'ù': \"u\",'ẳ': \"a\",'ẹ': \"e\",'ỷ': \"y\",'ỹ': \"y\",'è': \"e\",'é': \"e\",'ĩ': \"i\",'ỗ': \"o\",'ẵ': \"a\",'ằ': \"a\",'ẽ': \"e\",'ỵ': \"y\",'ỳ': \"y\"}\n",
    "\n",
    "for ii in range(len(Z)):\n",
    "    Z[ii] = Z[ii].lower()\n",
    "    for i in const.keys():\n",
    "        Z[ii] = Z[ii].replace(i, const[i])\n",
    "        Z[ii] = Z[ii].replace(i, const[i])\n",
    "print(Z[0])\n",
    "print(Z[1])"
   ]
  },
  {
   "cell_type": "code",
   "execution_count": 37,
   "metadata": {},
   "outputs": [
    {
     "name": "stdout",
     "output_type": "stream",
     "text": [
      "cua ngo ra vao tp tu 0 gio hom nay  0 0  \n",
      "chong dich covid 0 tai cac tuyen duong\n",
      "tram kiem soat phong\n",
      "ubnd tp hcm da chap thuan chu truong tam ngung trien khai cac chot\n"
     ]
    }
   ],
   "source": [
    "for ii in range(len(Z)):\n",
    "    for i in '!\"#$%&\\'()*+,-/:;<=>?@[\\\\]^_`{|}~\\t\\n\\r\\x0b\\x0c.':\n",
    "        Z[ii] = Z[ii].replace(i, \" \")\n",
    "    \n",
    "\n",
    "print(Z[0])\n",
    "print(Z[1])\n",
    "print(Z[2])\n",
    "print(Z[3])\n"
   ]
  },
  {
   "cell_type": "code",
   "execution_count": 38,
   "metadata": {},
   "outputs": [],
   "source": [
    "with open(\"from/aticle3.txt\", \"w\", encoding=\"utf-8\") as r:\n",
    "    for i in Z:\n",
    "        r.write(i+\"\\n\")"
   ]
  }
 ],
 "metadata": {
  "interpreter": {
   "hash": "684b1123683431d89d3bfe9a89cc763215f4b8cd94b4aba1fb40ad45ff7c8b41"
  },
  "kernelspec": {
   "display_name": "Python 3.7.4 64-bit",
   "name": "python3"
  },
  "language_info": {
   "codemirror_mode": {
    "name": "ipython",
    "version": 3
   },
   "file_extension": ".py",
   "mimetype": "text/x-python",
   "name": "python",
   "nbconvert_exporter": "python",
   "pygments_lexer": "ipython3",
   "version": "3.7.4"
  },
  "orig_nbformat": 4
 },
 "nbformat": 4,
 "nbformat_minor": 2
}
