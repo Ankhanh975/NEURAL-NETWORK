{
 "cells": [
  {
   "cell_type": "code",
   "execution_count": 75,
   "metadata": {},
   "outputs": [],
   "source": [
    "# raw input\n",
    "with open(\"from/aticle1.txt\", \"r\", encoding=\"utf-8\") as r:\n",
    "    x = r.read()\n",
    "\n",
    "# print(x,len(x))\n",
    "x = x.lower()\n",
    "x = x.split(\"\\n\")\n",
    "for index, e in reversed(list(enumerate(x))):\n",
    "    x[index] = x[index].strip()"
   ]
  },
  {
   "cell_type": "code",
   "execution_count": 76,
   "metadata": {},
   "outputs": [],
   "source": [
    "# A sentence or article is more than 85 characters long.\n",
    "for i in reversed(range(len(x))):\n",
    "    if not (500 > len(x[i]) > 85):\n",
    "        x.pop(i)\n",
    "# check if data is coincide, removes\n",
    "for i, e in reversed(list(enumerate(x))):\n",
    "    if i == 0:\n",
    "        continue\n",
    "    elif x[i] in x[:i]:\n",
    "        # print(\"same\")\n",
    "        x.pop(i)\n",
    "\n"
   ]
  },
  {
   "cell_type": "code",
   "execution_count": 77,
   "metadata": {},
   "outputs": [],
   "source": [
    "# Split by sentsense\n",
    "from nltk import sent_tokenize\n",
    "for index, e in reversed(list(enumerate(x))):\n",
    "    for sentence in sent_tokenize(x[index]):\n",
    "        x.append(sentence.strip())\n",
    "    x.pop(index)\n",
    "\n",
    "# Split by comma\n",
    "for i, e in reversed(list(enumerate(x))):\n",
    "    for zi in x[i].split(\", \"):\n",
    "        x.append(zi.strip())\n",
    "    x.pop(i)\n"
   ]
  },
  {
   "cell_type": "code",
   "execution_count": 78,
   "metadata": {},
   "outputs": [],
   "source": [
    "# replace all numbers => 0\n",
    "import re\n",
    "import nltk\n",
    "import string\n",
    "from nltk.tokenize import word_tokenize\n",
    "from nltk.corpus import stopwords\n",
    "from nltk.stem.porter import PorterStemmer\n",
    "for index, e in reversed(list(enumerate(x))):\n",
    "    x[index] = re.sub(\"[0-9]+\", \"0\", x[index])"
   ]
  },
  {
   "cell_type": "code",
   "execution_count": 79,
   "metadata": {},
   "outputs": [
    {
     "name": "stdout",
     "output_type": "stream",
     "text": [
      "như\n",
      "tôi\n",
      "mình\n",
      "mà\n"
     ]
    }
   ],
   "source": [
    "\n",
    "pattern = re.compile(\n",
    "    'http[s]?://(?:[a-zA-Z]|[0-9]|[$-_@.&+]|[!*\\(\\),]|(?:%[0-9a-fA-F][0-9a-fA-F]))+')\n",
    "\n",
    "\n",
    "def clean_text(text):\n",
    "    text = text.lower()\n",
    "    text = pattern.sub('link', text)\n",
    "    text = re.sub(r\"[,.\\\"'!@#$%^&*(){}?/;`~:<>+=-]\", \" \", text)\n",
    "    for i in '\\t\\n\\r\\x0b\\x0c':\n",
    "        # for i in '!\"#$%&\\'()*+,-./:;<=>?@[\\\\]^_`{|}~\\t\\n\\r\\x0b\\x0c.':\n",
    "        text = text.replace(i, \" \")\n",
    "    text = text.replace(\"0\", \"_\")\n",
    "    return text\n",
    "\n",
    "\n",
    "for index, e in reversed(list(enumerate(x))):\n",
    "    x[index] = clean_text(x[index])\n",
    "\n",
    "print(x[0])\n",
    "print(x[1])\n",
    "print(x[2])\n",
    "print(x[3])\n"
   ]
  },
  {
   "cell_type": "code",
   "execution_count": 80,
   "metadata": {},
   "outputs": [],
   "source": [
    "const = {'á': \"a\", 'ã': \"a\", 'ấ': \"a\", 'ậ': \"a\", 'ạ': \"a\", 'ủ': \"u\",\n",
    "         'đ': \"d\", 'ư': \"u\", 'ơ': \"o\", 'ể': \"e\", 'ố': \"o\", 'ò': \"o\", 'ị': \"i\",\n",
    "         'ế': \"e\", 'ờ': \"o\", 'ử': \"u\", 'õ': \"o\", 'à': \"a\", 'ừ': \"u\", 'ô': \"o\",\n",
    "         'ề': \"e\", 'ă': \"a\", 'ó': \"o\", 'ỉ': \"i\", 'â': \"a\", 'ộ': \"o\", 'ọ': \"o\",\n",
    "         'ả': \"a\", 'ì': \"i\", 'ợ': \"o\", 'ê': \"e\", 'ụ': \"u\", 'ầ': \"a\", 'ồ': \"o\",\n",
    "         'ổ': \"o\", 'ý': \"y\", 'ệ': \"e\", 'ớ': \"o\", 'ở': \"o\", 'ứ': \"u\", 'í': \"i\",\n",
    "         'ũ': \"u\", 'ặ': \"a\", 'ự': \"u\", 'ễ': \"e\", 'ỏ': \"o\", 'ẫ': \"a\", 'ữ': \"u\",\n",
    "         'ỡ': \"o\", 'ắ': \"a\", 'ú': \"u\", 'ẩ': \"a\", 'ẻ': \"e\", 'ù': \"u\", 'ẳ': \"a\",\n",
    "         'ẹ': \"e\", 'ỷ': \"y\", 'ỹ': \"y\", 'è': \"e\", 'é': \"e\", 'ĩ': \"i\", 'ỗ': \"o\",\n",
    "         'ẵ': \"a\", 'ằ': \"a\", 'ẽ': \"e\", 'ỵ': \"y\", 'ỳ': \"y\"}\n",
    "\n",
    "constKey = const.keys()\n",
    "\n",
    "\n",
    "def is_ascii(s):\n",
    "    return all(ord(c) < 128 for c in s)\n",
    "\n",
    "\n",
    "# Replace not-ascii characters from x\n",
    "for index, e in enumerate(x):\n",
    "    for i, character in enumerate(x[index]):\n",
    "        if (character not in constKey) and not is_ascii(character):\n",
    "            x[index] = \"_\"\n",
    "            print(\"found character\", character)\n"
   ]
  },
  {
   "cell_type": "code",
   "execution_count": 81,
   "metadata": {},
   "outputs": [],
   "source": [
    "# import random\n",
    "# random.shuffle(x)\n",
    "\n",
    "# # Line with max length (m)\n",
    "# n=[]\n",
    "# m=0\n",
    "# for i in x:\n",
    "#     if len(i)>m:\n",
    "#         m=len(i)\n",
    "#     n.append(len(i))\n",
    "\n",
    "\n",
    "# n, m\n",
    "# for i in range(len(x)):\n",
    "#     x[i] = x[i].center(500, ' ')"
   ]
  },
  {
   "cell_type": "code",
   "execution_count": 82,
   "metadata": {},
   "outputs": [],
   "source": [
    "with open(\"to/aticle2.txt\", \"w\", encoding=\"utf-8\") as r:\n",
    "    # Convert to file\n",
    "    r.write('\\n'.join(x))\n",
    "# print(x, len(x))"
   ]
  },
  {
   "cell_type": "code",
   "execution_count": 83,
   "metadata": {},
   "outputs": [
    {
     "name": "stdout",
     "output_type": "stream",
     "text": [
      "nhu\n",
      "toi\n"
     ]
    }
   ],
   "source": [
    "for ii in range(len(x)):\n",
    "    for i in const.keys():\n",
    "        x[ii] = x[ii].replace(i, const[i])\n",
    "        x[ii] = x[ii].replace(i, const[i])\n",
    "print(x[0])\n",
    "print(x[1])\n"
   ]
  },
  {
   "cell_type": "code",
   "execution_count": 84,
   "metadata": {},
   "outputs": [],
   "source": [
    "with open(\"from/aticle2.txt\", \"w\", encoding=\"utf-8\") as r:\n",
    "    r.write('\\n'.join(x))\n",
    "        "
   ]
  },
  {
   "cell_type": "code",
   "execution_count": 85,
   "metadata": {},
   "outputs": [
    {
     "data": {
      "text/plain": [
       "63.245553203367585"
      ]
     },
     "execution_count": 85,
     "metadata": {},
     "output_type": "execute_result"
    }
   ],
   "source": [
    "import math\n",
    "math.sqrt(8*500)"
   ]
  },
  {
   "cell_type": "code",
   "execution_count": 86,
   "metadata": {},
   "outputs": [
    {
     "data": {
      "text/plain": [
       "'!\"#$%&\\'()*+,-./:;<=>?@[\\\\]^_`{|}~'"
      ]
     },
     "execution_count": 86,
     "metadata": {},
     "output_type": "execute_result"
    }
   ],
   "source": [
    "# for i in '0123456789abcdefghijklmnopqrstuvwxyzABCDEFGHIJKLMNOPQRSTUVWXYZ!\"#$%&\\'()*+,-./:;<=>?@[\\\\]^_`{|}~ \\t\\n\\r\\x0b\\x0c. ':\n",
    "#     x=x.replace(i, \"\")\n",
    "\n",
    "# Z=[]\n",
    "# for i in x:\n",
    "#     if i not in Z:\n",
    "\n",
    "#         Z.append(i)\n",
    "# Z\n",
    "# 24:14\n",
    "# 40:30\n",
    "\n",
    "str.maketrans('', '', string.punctuation)\n",
    "string.punctuation"
   ]
  },
  {
   "cell_type": "code",
   "execution_count": 88,
   "metadata": {},
   "outputs": [
    {
     "ename": "NameError",
     "evalue": "name 'stripped' is not defined",
     "output_type": "error",
     "traceback": [
      "\u001b[1;31m---------------------------------------------------------------------------\u001b[0m",
      "\u001b[1;31mNameError\u001b[0m                                 Traceback (most recent call last)",
      "\u001b[1;32m~\\AppData\\Local\\Temp/ipykernel_11640/2293447461.py\u001b[0m in \u001b[0;36m<module>\u001b[1;34m\u001b[0m\n\u001b[1;32m----> 1\u001b[1;33m \u001b[0mwords\u001b[0m \u001b[1;33m=\u001b[0m \u001b[1;33m[\u001b[0m\u001b[0mword\u001b[0m \u001b[1;32mfor\u001b[0m \u001b[0mword\u001b[0m \u001b[1;32min\u001b[0m \u001b[0mstripped\u001b[0m \u001b[1;32mif\u001b[0m \u001b[0mword\u001b[0m\u001b[1;33m.\u001b[0m\u001b[0misalpha\u001b[0m\u001b[1;33m(\u001b[0m\u001b[1;33m)\u001b[0m\u001b[1;33m]\u001b[0m\u001b[1;33m\u001b[0m\u001b[1;33m\u001b[0m\u001b[0m\n\u001b[0m\u001b[0;32m      2\u001b[0m \u001b[1;33m\u001b[0m\u001b[0m\n\u001b[0;32m      3\u001b[0m \u001b[1;33m\u001b[0m\u001b[0m\n\u001b[0;32m      4\u001b[0m \u001b[0mwords\u001b[0m \u001b[1;33m=\u001b[0m \u001b[1;34m' '\u001b[0m\u001b[1;33m.\u001b[0m\u001b[0mjoin\u001b[0m\u001b[1;33m(\u001b[0m\u001b[0mwords\u001b[0m\u001b[1;33m)\u001b[0m\u001b[1;33m\u001b[0m\u001b[1;33m\u001b[0m\u001b[0m\n",
      "\u001b[1;31mNameError\u001b[0m: name 'stripped' is not defined"
     ]
    }
   ],
   "source": [
    "words = [word for word in stripped if word.isalpha()]\n",
    "\n",
    "\n",
    "words = ' '.join(words)"
   ]
  }
 ],
 "metadata": {
  "interpreter": {
   "hash": "d62006d1f3422635846181a997a61e8ec3049f797e5d7dfe0cd1bb84092b7c19"
  },
  "kernelspec": {
   "display_name": "Python 3.9.1 64-bit",
   "name": "python3"
  },
  "language_info": {
   "codemirror_mode": {
    "name": "ipython",
    "version": 3
   },
   "file_extension": ".py",
   "mimetype": "text/x-python",
   "name": "python",
   "nbconvert_exporter": "python",
   "pygments_lexer": "ipython3",
   "version": "3.9.1"
  },
  "orig_nbformat": 4
 },
 "nbformat": 4,
 "nbformat_minor": 2
}
