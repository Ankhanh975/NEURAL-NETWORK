{
 "cells": [
  {
   "cell_type": "code",
   "execution_count": 124,
   "metadata": {},
   "outputs": [],
   "source": [
    "\n",
    "with open(\"from/aticle2.txt\", \"r\", encoding=\"utf-8\") as r:\n",
    "    x=r.read()\n",
    "# print(x)\n"
   ]
  },
  {
   "cell_type": "code",
   "execution_count": 125,
   "metadata": {},
   "outputs": [],
   "source": [
    "# for i in '0123456789abcdefghijklmnopqrstuvwxyzABCDEFGHIJKLMNOPQRSTUVWXYZ!\"#$%&\\'()*+,-./:;<=>?@[\\\\]^_`{|}~ \\t\\n\\r\\x0b\\x0c. ':\n",
    "#     x=x.replace(i, \"\")\n",
    "\n",
    "# Z=[]\n",
    "# for i in x:\n",
    "#     if i not in Z:\n",
    "#         Z.append(i)\n",
    "# Z\n"
   ]
  },
  {
   "cell_type": "code",
   "execution_count": 126,
   "metadata": {},
   "outputs": [],
   "source": [
    "from nltk import sent_tokenize\n",
    "Z = sent_tokenize(x)"
   ]
  },
  {
   "cell_type": "code",
   "execution_count": 127,
   "metadata": {},
   "outputs": [
    {
     "name": "stdout",
     "output_type": "stream",
     "text": [
      "ubnd tp.hcm da chap thuan chu truong tam ngung trien khai cac chot, tram kiem soat phong, chong dich covid-19 tai cac tuyen duong, cua ngo ra/vao tp tu 18 gio hom nay (26-10).\n",
      "chieu 26-10, van phong ubnd tp.hcm vua co thong bao ket luan chi dao cua pho chu tich ubnd tp ngo minh chau tai cuoc hop giai quyet de xuat tam ngung trien khai cac chot, tram kiem soat phong, chong dich covid-19 tai cac tuyen duong, cua ngo ra/vao tp.\n"
     ]
    }
   ],
   "source": [
    "const = {'á': \"a\",'ã': \"a\",'ấ': \"a\",'ậ': \"a\",'ạ': \"a\",'ủ': \"u\",'đ': \"d\",'ư': \"u\",'ơ': \"o\",'ể': \"e\",'ố': \"o\",'ò': \"o\",'ị': \"i\",'ế': \"e\",'ờ': \"o\",'ử': \"u\",'õ': \"o\",'à': \"a\",'ừ': \"u\",'ô': \"o\",'ề': \"e\",'ă': \"a\",'ó': \"o\",'ỉ': \"i\",'â': \"a\",'ộ': \"o\",'ọ': \"o\",'ả': \"a\",'ì': \"i\",'ợ': \"o\",'ê': \"e\",'ụ': \"u\",'ầ': \"a\",\n",
    "'ồ': \"o\",'ổ': \"o\",'ý': \"y\",'ệ': \"e\",'ớ': \"o\",'ở': \"o\",'ứ': \"u\",'í': \"i\",'ũ': \"u\",'ặ': \"a\",'ự': \"u\",'ễ': \"e\",'ỏ': \"o\",'ẫ': \"a\",'ữ': \"u\",'ỡ': \"o\",'ắ': \"a\",'ú': \"u\",'ẩ': \"a\",'ẻ': \"e\",'ù': \"u\",'ẳ': \"a\",'ẹ': \"e\",'ỷ': \"y\",'ỹ': \"y\",'è': \"e\",'é': \"e\",'ĩ': \"i\",'ỗ': \"o\",'ẵ': \"a\",'ằ': \"a\",'ẽ': \"e\",'ỵ': \"y\",'ỳ': \"y\"}\n",
    "\n",
    "for ii in range(len(Z)):\n",
    "    Z[ii] = Z[ii].lower()\n",
    "    for i in const.keys():\n",
    "        Z[ii] = Z[ii].replace(i, const[i])\n",
    "        Z[ii] = Z[ii].replace(i, const[i])\n",
    "print(Z[0])\n",
    "print(Z[1])"
   ]
  },
  {
   "cell_type": "code",
   "execution_count": 128,
   "metadata": {},
   "outputs": [
    {
     "name": "stdout",
     "output_type": "stream",
     "text": [
      "ubnd tp hcm da chap thuan chu truong tam ngung trien khai cac chot  tram kiem soat phong  chong dich covid 0 tai cac tuyen duong  cua ngo ra vao tp tu 0 gio hom nay  0 0  \n",
      "chieu 0 0  van phong ubnd tp hcm vua co thong bao ket luan chi dao cua pho chu tich ubnd tp ngo minh chau tai cuoc hop giai quyet de xuat tam ngung trien khai cac chot  tram kiem soat phong  chong dich covid 0 tai cac tuyen duong  cua ngo ra vao tp \n",
      "theo do  pho chu tich ngo minh chau chi dao chap thuan chu truong tam ngung trien khai cac chot  tram kiem soat phong  chong dich covid 0 tai cac tuyen duong  cua ngo ra vao tp tu 0 gio ngay hom nay  0 0  \n",
      "ubnd tp giao cong an tp chu tri  phoi hop cac co quan  don vi lien quan tiep tuc tuan tra kiem soat luu dong \n"
     ]
    }
   ],
   "source": [
    "import re\n",
    "for ii in range(len(Z)):\n",
    "    for i in '!\"#$%&\\'()*+,-/:;<=>?@[\\\\]^_`{|}~ \\t\\n\\r\\x0b\\x0c.':\n",
    "        Z[ii] = Z[ii].replace(i, \" \")\n",
    "\n",
    "\n",
    "for ii in range(len(Z)):\n",
    "    Z[ii] = re.sub(\"[0-9]+\", \"0\", Z[ii])\n",
    "print(Z[0])\n",
    "print(Z[1])\n",
    "print(Z[2])\n",
    "print(Z[3])\n"
   ]
  },
  {
   "cell_type": "code",
   "execution_count": 129,
   "metadata": {},
   "outputs": [],
   "source": [
    "\n",
    "with open(\"from/aticle3.txt\", \"w\", encoding=\"utf-8\") as r:\n",
    "    for i in Z:\n",
    "        r.write(i+\"\\n\")"
   ]
  }
 ],
 "metadata": {
  "interpreter": {
   "hash": "d62006d1f3422635846181a997a61e8ec3049f797e5d7dfe0cd1bb84092b7c19"
  },
  "kernelspec": {
   "display_name": "Python 3.9.1 64-bit",
   "name": "python3"
  },
  "language_info": {
   "codemirror_mode": {
    "name": "ipython",
    "version": 3
   },
   "file_extension": ".py",
   "mimetype": "text/x-python",
   "name": "python",
   "nbconvert_exporter": "python",
   "pygments_lexer": "ipython3",
   "version": "3.9.1"
  },
  "orig_nbformat": 4
 },
 "nbformat": 4,
 "nbformat_minor": 2
}
