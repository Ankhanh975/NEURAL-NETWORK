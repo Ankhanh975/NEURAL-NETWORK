{
 "cells": [
  {
   "cell_type": "code",
   "execution_count": 6,
   "metadata": {},
   "outputs": [],
   "source": [
    "# raw input\n",
    "with open(\"from/aticle1.txt\", \"r\", encoding=\"utf-8\") as r:\n",
    "    x=r.read()\n",
    "\n",
    "# print(x,len(x))\n"
   ]
  },
  {
   "cell_type": "markdown",
   "metadata": {},
   "source": []
  },
  {
   "cell_type": "code",
   "execution_count": 7,
   "metadata": {},
   "outputs": [],
   "source": [
    "cZ = []\n",
    "x = x.split(\"\\n\")\n",
    "# A sentence or article is more than 85 characters long.\n",
    "for i in range(len(x)):\n",
    "    if len(x[i]) > 85:\n",
    "        Z.append(x[i].strip())\n",
    "        # print(x[i])\n",
    "\n",
    "# print(Z)\n",
    "\n",
    "# check if data is coincide, removing\n",
    "for i, e in reversed(list(enumerate(Z))):\n",
    "    if i == 0:\n",
    "        continue\n",
    "    elif Z[i] in Z[:i]:\n",
    "        # print(\"Same, \", Z[i])\n",
    "        Z.pop(i)\n"
   ]
  },
  {
   "cell_type": "code",
   "execution_count": null,
   "metadata": {},
   "outputs": [],
   "source": [
    "from nltk import sent_tokenize\n",
    "# Split by sentsense and comma\n",
    "for ii in range(len(Z)):\n",
    "    for zi in sent_tokenize(Z[ii]):\n",
    "        Z.append(zi.strip())\n",
    "    Z.pop(i)\n",
    "\n",
    "for i, e in reversed(list(enumerate(Z))):\n",
    "    for zi in Z[i].split(\", \"):\n",
    "        Z.append(zi.strip())\n",
    "    Z.pop(i)\n",
    "    \n",
    "for i, e in reversed(list(enumerate(Z))):\n",
    "    for zi in Z[i].split(\"  \"):\n",
    "        Z.append(zi.strip())\n",
    "    Z.pop(i)"
   ]
  },
  {
   "cell_type": "code",
   "execution_count": 3,
   "metadata": {},
   "outputs": [],
   "source": [
    "# for i in '0123456789abcdefghijklmnopqrstuvwxyzABCDEFGHIJKLMNOPQRSTUVWXYZ!\"#$%&\\'()*+,-./:;<=>?@[\\\\]^_`{|}~ \\t\\n\\r\\x0b\\x0c. ':\n",
    "#     x=x.replace(i, \"\")\n",
    "\n",
    "# Z=[]\n",
    "# for i in x:\n",
    "#     if i not in Z:\n",
    "\n",
    "#         Z.append(i)\n",
    "# Z"
   ]
  },
  {
   "cell_type": "code",
   "execution_count": 4,
   "metadata": {},
   "outputs": [],
   "source": [
    "import re\n",
    "for ii in range(len(Z)):\n",
    "    Z[ii] = re.sub(\"[0-9]+\", \"0\", Z[ii])"
   ]
  },
  {
   "cell_type": "code",
   "execution_count": 5,
   "metadata": {},
   "outputs": [],
   "source": [
    "\n",
    "with open(\"from/aticle2.txt\", \"w\", encoding=\"utf-8\") as r:\n",
    "    for i in Z:\n",
    "        r.write(i.strip()+\"\\n\")"
   ]
  }
 ],
 "metadata": {
  "interpreter": {
   "hash": "684b1123683431d89d3bfe9a89cc763215f4b8cd94b4aba1fb40ad45ff7c8b41"
  },
  "kernelspec": {
   "display_name": "Python 3.7.4 64-bit",
   "name": "python3"
  },
  "language_info": {
   "codemirror_mode": {
    "name": "ipython",
    "version": 3
   },
   "file_extension": ".py",
   "mimetype": "text/x-python",
   "name": "python",
   "nbconvert_exporter": "python",
   "pygments_lexer": "ipython3",
   "version": "3.7.4"
  },
  "orig_nbformat": 4
 },
 "nbformat": 4,
 "nbformat_minor": 2
}
