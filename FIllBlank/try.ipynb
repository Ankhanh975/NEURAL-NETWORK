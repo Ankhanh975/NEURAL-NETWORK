{
 "cells": [
  {
   "cell_type": "code",
   "execution_count": 51,
   "metadata": {},
   "outputs": [],
   "source": [
    "# import os\n",
    "# os.environ[\"TF_CPP_MIN_LOG_LEVEL\"] = \"2\"\n",
    "\n",
    "# import tensorflow as tf\n",
    "# from tensorflow import keras\n",
    "# from tensorflow.keras import layers\n",
    "\n",
    "# mnist = keras.datasets.mnist\n",
    "\n",
    "# (x_train, y_train), (x_test, y_test) = mnist.load_data()\n",
    "# x_train, x_test = x_train / 255.0, x_test / 255.0\n",
    "# # 28, 28 -> treat image as sequence\n",
    "# # input_size=28\n",
    "# # seq_length=28\n",
    "\n",
    "\n",
    "# # RNN Outputs and states\n",
    "# # ----------------------\n",
    "# # By default, the output of a RNN layer contains a single vector per sample.\n",
    "# # This vector is the RNN cell output corresponding to the last timestep, \n",
    "# # containing information about the entire input sequence. \n",
    "# # The shape of this output is (N, units)\n",
    "# # \n",
    "# # A RNN layer can also return the entire sequence of outputs \n",
    "# # for each sample (one vector per timestep per sample), \n",
    "# # if you set return_sequences=True. The shape of this output \n",
    "# # is (N, timesteps, units).\n",
    "\n",
    "\n",
    "# # model\n",
    "# model = keras.models.Sequential()\n",
    "# model.add(keras.Input(shape=(28,28))) # seq_length, input_size\n",
    "# #model.add(layers.SimpleRNN(128, return_sequences=True, activation='relu')) # N, 28, 128\n",
    "# model.add(layers.LSTM(128, return_sequences=False, activation='relu')) # N, 128\n",
    "# model.add(layers.Dense(10))\n",
    "# print(model.summary())\n",
    "\n",
    "# # loss and optimizer\n",
    "# loss = keras.losses.SparseCategoricalCrossentropy(from_logits=True)\n",
    "# optim = keras.optimizers.Adam(lr=0.001)\n",
    "# metrics = [\"accuracy\"]\n",
    "\n",
    "# model.compile(loss=loss, optimizer=optim, metrics=metrics)\n",
    "\n",
    "# # training\n",
    "# batch_size = 64\n",
    "# epochs = 5\n",
    "\n",
    "# model.fit(x_train, y_train, batch_size=batch_size, epochs=epochs)\n",
    "\n",
    "# # evaulate\n",
    "# model.evaluate(x_test, y_test, batch_size=batch_size)"
   ]
  },
  {
   "cell_type": "code",
   "execution_count": 52,
   "metadata": {},
   "outputs": [],
   "source": [
    "[\"D:/Bi/cc.vi.300.vec/cc.vi.300.vec\",\n",
    " \"D:/Bi/baomoi.window2.vn.model.bin/baomoi.vn.model.bin\",\n",
    " \"D:/Bi/wiki.vi.model.bin/wiki.vi.model.bin\",\n",
    " \"D:/Bi/archive (1)/cc.vi.300.bin\",\n",
    " \"D:/Bi/archive (1)/cc.vi.300.vec\" ]\n",
    "from gensim.models import FastText"
   ]
  },
  {
   "cell_type": "code",
   "execution_count": 62,
   "metadata": {},
   "outputs": [
    {
     "ename": "AttributeError",
     "evalue": "type object 'FastText' has no attribute 'load_fasttext_model'",
     "output_type": "error",
     "traceback": [
      "\u001b[1;31m---------------------------------------------------------------------------\u001b[0m",
      "\u001b[1;31mAttributeError\u001b[0m                            Traceback (most recent call last)",
      "\u001b[1;32m<ipython-input-62-19bf56f7d482>\u001b[0m in \u001b[0;36m<module>\u001b[1;34m\u001b[0m\n\u001b[1;32m----> 1\u001b[1;33m \u001b[0mfasttext_model\u001b[0m \u001b[1;33m=\u001b[0m \u001b[0mFastText\u001b[0m\u001b[1;33m.\u001b[0m\u001b[0mload_fasttext_model\u001b[0m\u001b[1;33m(\u001b[0m\u001b[1;34m\"D:/Bi/wiki.vi.model.bin/wiki.vi.model.bin\"\u001b[0m\u001b[1;33m)\u001b[0m\u001b[1;33m\u001b[0m\u001b[1;33m\u001b[0m\u001b[0m\n\u001b[0m\u001b[0;32m      2\u001b[0m \u001b[0mfasttext_model\u001b[0m\u001b[1;33m\u001b[0m\u001b[1;33m\u001b[0m\u001b[0m\n",
      "\u001b[1;31mAttributeError\u001b[0m: type object 'FastText' has no attribute 'load_fasttext_model'"
     ]
    }
   ],
   "source": [
    "fasttext_model = FastText.load_fasttext_model(\"D:/Bi/wiki.vi.model.bin/wiki.vi.model.bin\")\n",
    "fasttext_model"
   ]
  },
  {
   "cell_type": "code",
   "execution_count": 59,
   "metadata": {},
   "outputs": [
    {
     "ename": "NameError",
     "evalue": "name 'fasttext_model' is not defined",
     "output_type": "error",
     "traceback": [
      "\u001b[1;31m---------------------------------------------------------------------------\u001b[0m",
      "\u001b[1;31mNameError\u001b[0m                                 Traceback (most recent call last)",
      "\u001b[1;32m<ipython-input-59-dc0d6af3977f>\u001b[0m in \u001b[0;36m<module>\u001b[1;34m\u001b[0m\n\u001b[1;32m----> 1\u001b[1;33m \u001b[0mfasttext_model\u001b[0m\u001b[1;33m,\u001b[0m \u001b[0mtype\u001b[0m\u001b[1;33m(\u001b[0m\u001b[0mfasttext_model\u001b[0m\u001b[1;33m)\u001b[0m\u001b[1;33m,\u001b[0m \u001b[0mdir\u001b[0m\u001b[1;33m(\u001b[0m\u001b[0mfasttext_model\u001b[0m\u001b[1;33m)\u001b[0m\u001b[1;33m\u001b[0m\u001b[1;33m\u001b[0m\u001b[0m\n\u001b[0m",
      "\u001b[1;31mNameError\u001b[0m: name 'fasttext_model' is not defined"
     ]
    }
   ],
   "source": [
    "fasttext_model, type(fasttext_model), dir(fasttext_model)"
   ]
  },
  {
   "cell_type": "code",
   "execution_count": null,
   "metadata": {},
   "outputs": [
    {
     "data": {
      "text/plain": [
       "[     Unnamed: 0    Emotion                                           Sentence\n",
       " 0           713    Sadness                   người ta có bạn bè nhìn vui thật\n",
       " 1          1827   Surprise          cho nghỉ viêc mói đúng sao goi là kỷ luật\n",
       " 2          1166    Disgust                                         kinh vãi 😡\n",
       " 3           228       Fear  nhà thì không xa lắm nhưng chưa bao giờ đi vì ...\n",
       " 4          1942      Anger      bố không thích nộp đấy mày thích ý kiến không\n",
       " ..          ...        ...                                                ...\n",
       " 688         432    Sadness  lúc thì cuốc đất è cổ ra không có giun mà câu ...\n",
       " 689         178  Enjoyment  các bác dẫn crush qua cây sữa nay mà hứng nước...\n",
       " 690        1863   Surprise  vợ chồng rồi mà trong sáng như này chỉ có tron...\n",
       " 691         476      Other                   bep này vào binh dương dùng xuất\n",
       " 692        1607   Surprise                               đôi mắt đằm thắm vãi\n",
       " \n",
       " [693 rows x 3 columns],\n",
       "       Unnamed: 0    Emotion                                           Sentence\n",
       " 0            188      Other              cho mình xin bài nhạc tên là gì với ạ\n",
       " 1            166    Disgust  cho đáng đời con quỷ . về nhà lôi con nhà mày ...\n",
       " 2           1345    Disgust  lo học đi . yêu đương lol gì hay lại thích học...\n",
       " 3            316  Enjoyment    uớc gì sau này về già vẫn có thể như cụ này :))\n",
       " 4           1225  Enjoyment  mỗi lần có video của con là cứ coi đi coi lại ...\n",
       " ...          ...        ...                                                ...\n",
       " 5543        1332    Disgust  đường của nhà cụ hay sao mà cụ cấm người ta đỗ...\n",
       " 5544         825      Other                             nhìn mặt héo queo luôn\n",
       " 5545         165      Other  tao đi xe máy mỗi lần muốn để xe đi đâu là phi...\n",
       " 5546         363  Enjoyment                    thích thân hình boss rồi nhan 😌\n",
       " 5547        1242    Sadness  ước mơ nhỏ nhoi của tao là được làm chị mà khô...\n",
       " \n",
       " [5548 rows x 3 columns],\n",
       "      Unnamed: 0    Emotion                                           Sentence\n",
       " 0           941      Other  tính tao tao biết , chẳng có chuyện gì có thể ...\n",
       " 1           142  Enjoyment           lại là lào cai , tự hào quê mình quá :))\n",
       " 2          1164    Sadness                                     bị từ chối rồi\n",
       " 3           182  Enjoyment                         tam đảo trời đẹp các mem à\n",
       " 4           868      Other  đọc bình luận của thằng đó không thiếu chữ nào 😂😂\n",
       " ..          ...        ...                                                ...\n",
       " 681        1290    Sadness                                     nhọc lòng :(((\n",
       " 682         881    Sadness  tao đã rất muốn làm bạn tốt anh em tri kỉ với ...\n",
       " 683        1689    Disgust                   cơm tấm ở ngoài cũng như này . 😡\n",
       " 684        1779   Surprise                                 chất liệu đỉnh quá\n",
       " 685        1486      Anger  dume lũ mất dạy . bố mẹ cho mày ăn học để dơ n...\n",
       " \n",
       " [686 rows x 3 columns]]"
      ]
     },
     "execution_count": 23,
     "metadata": {},
     "output_type": "execute_result"
    }
   ],
   "source": [
    "# import pandas as pd\n",
    "\n",
    "# df1 = pd.read_excel(\"D:/Bi/UIT-VSMEC/valid_nor_811.xlsx\")\n",
    "# df2 = pd.read_excel(\"D:/Bi/UIT-VSMEC/train_nor_811.xlsx\")\n",
    "# df3 = pd.read_excel(\"D:/Bi/UIT-VSMEC/valid_nor_811.xlsx\")\n",
    "# df=[]\n",
    "# for i in [\"D:/Bi/UIT-VSMEC/test_nor_811.xlsx\",\n",
    "#           \"D:/Bi/UIT-VSMEC/train_nor_811.xlsx\",\n",
    "#           \"D:/Bi/UIT-VSMEC/valid_nor_811.xlsx\"]:\n",
    "#     df.append(pd.read_excel(i))\n",
    "    \n",
    "# df"
   ]
  },
  {
   "cell_type": "code",
   "execution_count": null,
   "metadata": {},
   "outputs": [
    {
     "data": {
      "text/plain": [
       "0"
      ]
     },
     "execution_count": 40,
     "metadata": {},
     "output_type": "execute_result"
    }
   ],
   "source": [
    "# Sentence = []\n",
    "# for each in df:\n",
    "#     for x in each[\"Sentence\"]:\n",
    "#         print(x)\n",
    "#         Sentence.append(x)\n",
    "# Sentence"
   ]
  },
  {
   "cell_type": "code",
   "execution_count": null,
   "metadata": {},
   "outputs": [],
   "source": [
    "# with open(\"from/chat1.txt\", \"w\", encoding=\"utf-8\") as r:\n",
    "#     # Convert to file\n",
    "#     r.write('\\n'.join(Sentence))"
   ]
  }
 ],
 "metadata": {
  "interpreter": {
   "hash": "684b1123683431d89d3bfe9a89cc763215f4b8cd94b4aba1fb40ad45ff7c8b41"
  },
  "kernelspec": {
   "display_name": "Python 3.7.4 64-bit",
   "name": "python3"
  },
  "language_info": {
   "codemirror_mode": {
    "name": "ipython",
    "version": 3
   },
   "file_extension": ".py",
   "mimetype": "text/x-python",
   "name": "python",
   "nbconvert_exporter": "python",
   "pygments_lexer": "ipython3",
   "version": "3.7.4"
  },
  "orig_nbformat": 4
 },
 "nbformat": 4,
 "nbformat_minor": 2
}
