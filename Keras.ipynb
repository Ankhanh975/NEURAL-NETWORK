{
 "cells": [
  {
   "cell_type": "code",
   "execution_count": 1,
   "metadata": {},
   "outputs": [
    {
     "name": "stdout",
     "output_type": "stream",
     "text": [
      "(60000, 28, 28)\n"
     ]
    }
   ],
   "source": [
    "import pickle\n",
    "import time\n",
    "import datetime\n",
    "import random\n",
    "import cv2\n",
    "import numpy as np\n",
    "import tensorflow as tf\n",
    "from tensorflow.keras.models import Sequential\n",
    "from tensorflow.keras.layers import Dense, Dropout, Activation, Flatten\n",
    "from tensorflow.keras.layers import Conv2D, MaxPooling2D\n",
    "from tensorflow.keras.callbacks import TensorBoard\n",
    "import matplotlib.pyplot as plt\n",
    "\n",
    "\n",
    "# # Loading MNIST dataset\n",
    "mnist = tf.keras.datasets.mnist\n",
    "(X_train, y_train), (X_test, y_test) = mnist.load_data()\n",
    "X_train = tf.keras.utils.normalize(X_train, axis=1)\n",
    "X_test = tf.keras.utils.normalize(X_test, axis=1)\n",
    "print(X_train.shape)\n",
    "X_train = X_train.reshape(-1, 28, 28, 1)\n",
    "X_test = X_test.reshape(-1, 28, 28, 1)\n",
    "\n",
    "\n"
   ]
  },
  {
   "cell_type": "code",
   "execution_count": 2,
   "metadata": {},
   "outputs": [],
   "source": [
    "model = tf.keras.models.Sequential()\n",
    "# Input Layer\n",
    "\n",
    "# model.add(tf.keras.layers.Dense(128, activation=tf.nn.relu))\n",
    "# model.add(Conv2D(1, 3, activation='relu', padding='same', input_shape=(28, 28, 1)))\n",
    "model.add(tf.keras.layers.Flatten())\n",
    "model.add(tf.keras.layers.Dense(64, activation=tf.nn.relu))\n",
    "model.add(tf.keras.layers.Dense(64, activation=tf.nn.relu))\n",
    "model.add(tf.keras.layers.Dense(10, activation=tf.nn.softmax))\n",
    "model.compile(optimizer='adam',\n",
    "              loss='sparse_categorical_crossentropy',\n",
    "              metrics=['accuracy'])"
   ]
  },
  {
   "cell_type": "code",
   "execution_count": 3,
   "metadata": {},
   "outputs": [
    {
     "name": "stdout",
     "output_type": "stream",
     "text": [
      "Epoch 1/20\n",
      "938/938 [==============================] - 3s 3ms/step - loss: 0.7118 - accuracy: 0.7987 - val_loss: 0.2142 - val_accuracy: 0.9374\n",
      "Epoch 2/20\n",
      "938/938 [==============================] - 2s 2ms/step - loss: 0.1873 - accuracy: 0.9440 - val_loss: 0.1593 - val_accuracy: 0.9511\n",
      "Epoch 3/20\n",
      "938/938 [==============================] - 1s 2ms/step - loss: 0.1309 - accuracy: 0.9593 - val_loss: 0.1226 - val_accuracy: 0.9627\n",
      "Epoch 4/20\n",
      "938/938 [==============================] - 1s 2ms/step - loss: 0.0912 - accuracy: 0.9728 - val_loss: 0.1130 - val_accuracy: 0.9674\n",
      "Epoch 5/20\n",
      "938/938 [==============================] - 2s 2ms/step - loss: 0.0747 - accuracy: 0.9769 - val_loss: 0.1010 - val_accuracy: 0.9700\n",
      "Epoch 6/20\n",
      "938/938 [==============================] - 2s 2ms/step - loss: 0.0623 - accuracy: 0.9806 - val_loss: 0.1031 - val_accuracy: 0.9675\n",
      "Epoch 7/20\n",
      "938/938 [==============================] - 1s 2ms/step - loss: 0.0499 - accuracy: 0.9845 - val_loss: 0.1007 - val_accuracy: 0.9686\n",
      "Epoch 8/20\n",
      "938/938 [==============================] - 1s 1ms/step - loss: 0.0447 - accuracy: 0.9856 - val_loss: 0.0979 - val_accuracy: 0.9711\n",
      "Epoch 9/20\n",
      "938/938 [==============================] - 1s 1ms/step - loss: 0.0375 - accuracy: 0.9887 - val_loss: 0.1016 - val_accuracy: 0.9706\n",
      "Epoch 10/20\n",
      "938/938 [==============================] - 1s 1ms/step - loss: 0.0321 - accuracy: 0.9901 - val_loss: 0.0992 - val_accuracy: 0.9715\n",
      "Epoch 11/20\n",
      "938/938 [==============================] - 1s 1ms/step - loss: 0.0260 - accuracy: 0.9917 - val_loss: 0.1013 - val_accuracy: 0.9717\n",
      "Epoch 12/20\n",
      "938/938 [==============================] - 1s 1ms/step - loss: 0.0221 - accuracy: 0.9939 - val_loss: 0.1079 - val_accuracy: 0.9712\n",
      "Epoch 13/20\n",
      "938/938 [==============================] - 2s 2ms/step - loss: 0.0200 - accuracy: 0.9938 - val_loss: 0.1099 - val_accuracy: 0.9710\n",
      "Epoch 14/20\n",
      "938/938 [==============================] - 2s 2ms/step - loss: 0.0163 - accuracy: 0.9952 - val_loss: 0.1165 - val_accuracy: 0.9710\n",
      "Epoch 15/20\n",
      "938/938 [==============================] - 2s 2ms/step - loss: 0.0163 - accuracy: 0.9947 - val_loss: 0.1213 - val_accuracy: 0.9700\n",
      "Epoch 16/20\n",
      "938/938 [==============================] - 1s 2ms/step - loss: 0.0138 - accuracy: 0.9958 - val_loss: 0.1200 - val_accuracy: 0.9706\n",
      "Epoch 17/20\n",
      "938/938 [==============================] - 1s 1ms/step - loss: 0.0109 - accuracy: 0.9966 - val_loss: 0.1182 - val_accuracy: 0.9713\n",
      "Epoch 18/20\n",
      "938/938 [==============================] - 1s 2ms/step - loss: 0.0104 - accuracy: 0.9970 - val_loss: 0.1423 - val_accuracy: 0.9675\n",
      "Epoch 19/20\n",
      "938/938 [==============================] - 1s 1ms/step - loss: 0.0111 - accuracy: 0.9965 - val_loss: 0.1364 - val_accuracy: 0.9697\n",
      "Epoch 20/20\n",
      "938/938 [==============================] - 1s 1ms/step - loss: 0.0097 - accuracy: 0.9969 - val_loss: 0.1317 - val_accuracy: 0.9723\n",
      "Model: \"sequential\"\n",
      "_________________________________________________________________\n",
      "Layer (type)                 Output Shape              Param #   \n",
      "=================================================================\n",
      "flatten (Flatten)            (None, 784)               0         \n",
      "_________________________________________________________________\n",
      "dense (Dense)                (None, 64)                50240     \n",
      "_________________________________________________________________\n",
      "dense_1 (Dense)              (None, 64)                4160      \n",
      "_________________________________________________________________\n",
      "dense_2 (Dense)              (None, 10)                650       \n",
      "=================================================================\n",
      "Total params: 55,050\n",
      "Trainable params: 55,050\n",
      "Non-trainable params: 0\n",
      "_________________________________________________________________\n"
     ]
    }
   ],
   "source": [
    "\n",
    "NAME = \"6494batch_size=64, \"+str(time.time())\n",
    "tensorboard = TensorBoard(log_dir='logs/{}'.format(NAME))\n",
    "# tensorboard --logdir=\"logs/\"\n",
    "model.fit(X_train, y_train, batch_size=64, epochs=20,\n",
    "          validation_data=(X_test, y_test), callbacks=[tensorboard])\n",
    "model.summary()\n"
   ]
  }
 ],
 "metadata": {
  "interpreter": {
   "hash": "684b1123683431d89d3bfe9a89cc763215f4b8cd94b4aba1fb40ad45ff7c8b41"
  },
  "kernelspec": {
   "display_name": "Python 3.7.4 64-bit",
   "name": "python3"
  },
  "language_info": {
   "codemirror_mode": {
    "name": "ipython",
    "version": 3
   },
   "file_extension": ".py",
   "mimetype": "text/x-python",
   "name": "python",
   "nbconvert_exporter": "python",
   "pygments_lexer": "ipython3",
   "version": "3.7.4"
  }
 },
 "nbformat": 4,
 "nbformat_minor": 2
}
