{
 "cells": [
  {
   "cell_type": "code",
   "execution_count": 64,
   "metadata": {},
   "outputs": [],
   "source": [
    "import pickle\n",
    "import time\n",
    "import datetime\n",
    "import random\n",
    "import cv2\n",
    "import numpy as np\n",
    "from tqdm import tqdm\n",
    "import tensorflow as tf\n",
    "from tensorflow.keras.models import Sequential\n",
    "from tensorflow.keras.layers import Dense, Dropout, Activation, Flatten\n",
    "from tensorflow.keras.layers import Conv2D, MaxPooling2D\n",
    "from tensorflow.keras.callbacks import TensorBoard\n",
    "from tensorflow.keras import layers\n",
    "from tensorflow.keras.models import Model\n",
    "import matplotlib.pyplot as plt\n",
    "\n",
    "# # Loading MNIST dataset\n",
    "mnist = tf.keras.datasets.mnist\n",
    "(X_train, y_train), (X_test, y_test) = mnist.load_data()\n",
    "X_train = tf.keras.utils.normalize(X_train, axis=1)\n",
    "X_test = tf.keras.utils.normalize(X_test, axis=1)\n",
    "X_train = X_train.reshape(-1, 28, 28, 1)\n",
    "X_test = X_test.reshape(-1, 28, 28, 1)"
   ]
  },
  {
   "cell_type": "code",
   "execution_count": 65,
   "metadata": {},
   "outputs": [
    {
     "name": "stderr",
     "output_type": "stream",
     "text": [
      "100%|██████████| 60000/60000 [00:08<00:00, 6759.04it/s]\n"
     ]
    },
    {
     "data": {
      "image/png": "[encoded data removed]",
      "text/plain": [
       "<Figure size 432x288 with 1 Axes>"
      ]
     },
     "metadata": {
      "needs_background": "light"
     },
     "output_type": "display_data"
    }
   ],
   "source": [
    "# x = X_train[1]\n",
    "# x = tf.image.flip_up_down(x)\n",
    "X_train = np.resize(X_train, (60000*2, 28, 28, 1))\n",
    "y_train = np.resize(y_train, (60000*2))\n",
    "plt.imshow(X_train[60000], cmap=plt.cm.binary)\n",
    "X_train.shape\n",
    "for i in tqdm(range (60000)):\n",
    "    X_train[60000+i] = tf.image.flip_up_down(X_train[60000+i])"
   ]
  },
  {
   "cell_type": "code",
   "execution_count": 66,
   "metadata": {},
   "outputs": [
    {
     "data": {
      "text/plain": [
       "(10000,)"
      ]
     },
     "execution_count": 66,
     "metadata": {},
     "output_type": "execute_result"
    }
   ],
   "source": [
    "y_test.shape"
   ]
  },
  {
   "cell_type": "code",
   "execution_count": 67,
   "metadata": {},
   "outputs": [],
   "source": [
    "model = tf.keras.models.Sequential()\n",
    "# Input Layer\n",
    "\n",
    "# model.add(layers.Dense(128, activation=tf.nn.relu))\n",
    "# model.add(Conv2D(1, 3, activation='relu', padding='same', input_shape=(28, 28, 1)))\n",
    "model.add(layers.Flatten())\n",
    "model.add(layers.Dense(128, activation=tf.nn.relu))\n",
    "model.add(layers.Dense(64, activation=tf.nn.relu))\n",
    "model.add(layers.Dense(10, activation=tf.nn.softmax))\n",
    "model.compile(optimizer='adam',\n",
    "              loss='sparse_categorical_crossentropy',\n",
    "              metrics=['accuracy'])\n"
   ]
  },
  {
   "cell_type": "code",
   "execution_count": 68,
   "metadata": {},
   "outputs": [
    {
     "name": "stdout",
     "output_type": "stream",
     "text": [
      "Epoch 1/10\n",
      "1875/1875 [==============================] - 21s 4ms/step - loss: 0.6078 - accuracy: 0.8269 - val_loss: 0.2075 - val_accuracy: 0.9379\n",
      "Epoch 2/10\n",
      "1875/1875 [==============================] - 5s 2ms/step - loss: 0.1718 - accuracy: 0.9477 - val_loss: 0.1568 - val_accuracy: 0.9523\n",
      "Epoch 3/10\n",
      "1875/1875 [==============================] - 3s 2ms/step - loss: 0.1218 - accuracy: 0.9625 - val_loss: 0.1297 - val_accuracy: 0.9594\n",
      "Epoch 4/10\n",
      "1875/1875 [==============================] - 4s 2ms/step - loss: 0.0939 - accuracy: 0.9704 - val_loss: 0.1394 - val_accuracy: 0.9581\n",
      "Epoch 5/10\n",
      "1875/1875 [==============================] - 3s 2ms/step - loss: 0.0751 - accuracy: 0.9763 - val_loss: 0.1323 - val_accuracy: 0.9600\n",
      "Epoch 6/10\n",
      "1875/1875 [==============================] - 3s 2ms/step - loss: 0.0630 - accuracy: 0.9795 - val_loss: 0.1256 - val_accuracy: 0.9629\n",
      "Epoch 7/10\n",
      "1875/1875 [==============================] - 3s 2ms/step - loss: 0.0515 - accuracy: 0.9839 - val_loss: 0.1244 - val_accuracy: 0.9646\n",
      "Epoch 8/10\n",
      "1875/1875 [==============================] - 3s 2ms/step - loss: 0.0429 - accuracy: 0.9863 - val_loss: 0.1287 - val_accuracy: 0.9640\n",
      "Epoch 9/10\n",
      "1875/1875 [==============================] - 4s 2ms/step - loss: 0.0370 - accuracy: 0.9876 - val_loss: 0.1425 - val_accuracy: 0.9620\n",
      "Epoch 10/10\n",
      "1875/1875 [==============================] - 3s 2ms/step - loss: 0.0308 - accuracy: 0.9899 - val_loss: 0.1440 - val_accuracy: 0.9623\n",
      "Model: \"sequential_15\"\n",
      "_________________________________________________________________\n",
      "Layer (type)                 Output Shape              Param #   \n",
      "=================================================================\n",
      "flatten_3 (Flatten)          (None, 784)               0         \n",
      "_________________________________________________________________\n",
      "dense_9 (Dense)              (None, 128)               100480    \n",
      "_________________________________________________________________\n",
      "dense_10 (Dense)             (None, 64)                8256      \n",
      "_________________________________________________________________\n",
      "dense_11 (Dense)             (None, 10)                650       \n",
      "=================================================================\n",
      "Total params: 109,386\n",
      "Trainable params: 109,386\n",
      "Non-trainable params: 0\n",
      "_________________________________________________________________\n"
     ]
    }
   ],
   "source": [
    "\n",
    "NAME = \"randomFlip, suffice\"+ str(time.time())\n",
    "tensorboard = TensorBoard(log_dir='logs/{}'.format(NAME))\n",
    "# cd \"C:\\Users\\Admin\\Desktop\\HTML\\NEURAL NETWORK\"\n",
    "# tensorboard --logdir=\"logs/\"\n",
    "# \n",
    "model.fit(X_train, y_train, batch_size=64, epochs=10,\n",
    "          validation_data=(X_test, y_test), callbacks=[tensorboard])\n",
    "model.summary()\n"
   ]
  }
 ],
 "metadata": {
  "interpreter": {
   "hash": "684b1123683431d89d3bfe9a89cc763215f4b8cd94b4aba1fb40ad45ff7c8b41"
  },
  "kernelspec": {
   "display_name": "Python 3.7.4 64-bit",
   "name": "python3"
  },
  "language_info": {
   "codemirror_mode": {
    "name": "ipython",
    "version": 3
   },
   "file_extension": ".py",
   "mimetype": "text/x-python",
   "name": "python",
   "nbconvert_exporter": "python",
   "pygments_lexer": "ipython3",
   "version": "3.7.4"
  }
 },
 "nbformat": 4,
 "nbformat_minor": 2
}
